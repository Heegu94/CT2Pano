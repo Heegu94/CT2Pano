{
 "cells": [
  {
   "cell_type": "markdown",
   "metadata": {},
   "source": [
    "# Searching rotation center"
   ]
  },
  {
   "cell_type": "code",
   "execution_count": 1,
   "metadata": {},
   "outputs": [],
   "source": [
    "import numpy as np\n",
    "import matplotlib.pyplot as plt\n",
    "import os, glob\n",
    "import nibabel as nib\n",
    "\n",
    "from scipy.ndimage.interpolation import rotate\n",
    "from scipy.ndimage.interpolation import shift\n",
    "\n",
    "from ipywidgets import interact\n",
    "import ipywidgets as widgets"
   ]
  },
  {
   "cell_type": "code",
   "execution_count": 2,
   "metadata": {},
   "outputs": [],
   "source": [
    "ROOT = \"D://Data/\"\n",
    "\n",
    "pat_list = os.listdir(ROOT)\n",
    "pat_path = [os.path.join(ROOT, pat) for pat in pat_list]\n",
    "\n",
    "ct_list = [glob.glob(path+'/r*.nii') for path in pat_path]\n",
    "\n",
    "np_ct = []\n",
    "for i in ct_list:\n",
    "    if i != [] :\n",
    "        img = nib.load(i[0])\n",
    "        np_ct.append(np.array(img.dataobj))\n",
    "\n",
    "ct = np.array(np_ct)\n",
    "np.save('C:\\\\Users\\\\Heeguen\\\\Desktop\\\\heeguen\\\\Dental_panorama_2020\\\\np_data\\\\register_ct.npy', ct)"
   ]
  },
  {
   "cell_type": "code",
   "execution_count": 2,
   "metadata": {},
   "outputs": [
    {
     "name": "stdout",
     "output_type": "stream",
     "text": [
      "(6, 424, 671, 671)\n"
     ]
    }
   ],
   "source": [
    "ct = np.load('C:\\\\Users\\\\Heeguen\\\\Desktop\\\\heeguen\\\\Dental_panorama_2020\\\\np_data\\\\register_ct.npy')\n",
    "trans_ct = np.transpose(ct, (0, 3, 1, 2))\n",
    "print(trans_ct.shape)"
   ]
  },
  {
   "cell_type": "code",
   "execution_count": 3,
   "metadata": {},
   "outputs": [
    {
     "data": {
      "application/vnd.jupyter.widget-view+json": {
       "model_id": "66fe1b559a664bdab9af41a6b71bcc25",
       "version_major": 2,
       "version_minor": 0
      },
      "text/plain": [
       "interactive(children=(IntSlider(value=0, description='x', max=5), IntSlider(value=100, description='y', max=42…"
      ]
     },
     "metadata": {},
     "output_type": "display_data"
    },
    {
     "data": {
      "text/plain": [
       "<function __main__.show(x, y, z)>"
      ]
     },
     "execution_count": 3,
     "metadata": {},
     "output_type": "execute_result"
    }
   ],
   "source": [
    "def show(x, y, z):\n",
    "    plt.figure(figsize=(24,12))\n",
    "    plt.subplot(121)\n",
    "    plt.imshow(trans_ct[x, y, ...], cmap='gray')\n",
    "    \n",
    "    plt.subplot(122)\n",
    "    plt.imshow(np.rot90(ct[x, z, ...]), cmap='gray')    \n",
    "    \n",
    "interact(show, x=widgets.IntSlider(min=0, max=(trans_ct.shape[0]-1), step=1,value=0), \n",
    "         y=widgets.IntSlider(min=0, max=(trans_ct.shape[1]-1), step=1,value=100), \n",
    "         z=widgets.IntSlider(min=0, max=(ct.shape[1]-1), step=1,value=300))"
   ]
  },
  {
   "cell_type": "code",
   "execution_count": 29,
   "metadata": {},
   "outputs": [
    {
     "data": {
      "application/vnd.jupyter.widget-view+json": {
       "model_id": "5732a274fbe84a32a8a33ce7b5ea38e2",
       "version_major": 2,
       "version_minor": 0
      },
      "text/plain": [
       "interactive(children=(IntSlider(value=0, description='x', max=5), IntSlider(value=0, description='y', max=423)…"
      ]
     },
     "metadata": {},
     "output_type": "display_data"
    },
    {
     "data": {
      "text/plain": [
       "<function __main__.show(x, y, z)>"
      ]
     },
     "execution_count": 29,
     "metadata": {},
     "output_type": "execute_result"
    }
   ],
   "source": [
    "def show(x, y, z):\n",
    "    plt.figure(figsize=(24,12))\n",
    "    plt.subplot(121)\n",
    "    plt.imshow(trans_ct[x, y, ...], cmap='gray')\n",
    "    \n",
    "    plt.subplot(122)\n",
    "    plt.hist(trans_ct[x, y, ...])    \n",
    "    \n",
    "interact(show, x=widgets.IntSlider(min=0, max=(trans_ct.shape[0]-1), step=1,value=0), \n",
    "         y=widgets.IntSlider(min=0, max=(trans_ct.shape[1]-1), step=1,value=0), \n",
    "         z=widgets.IntSlider(min=0, max=(trans_ct.shape[1]-1), step=1,value=0))"
   ]
  },
  {
   "cell_type": "code",
   "execution_count": 4,
   "metadata": {},
   "outputs": [
    {
     "data": {
      "text/plain": [
       "(6, 424, 671, 671)"
      ]
     },
     "execution_count": 4,
     "metadata": {},
     "output_type": "execute_result"
    }
   ],
   "source": [
    "trans_ct.shape"
   ]
  },
  {
   "cell_type": "markdown",
   "metadata": {},
   "source": [
    "</br>\n",
    "\n",
    "## 위의 image 처럼 ct의 coregistration 과정에 의해, ct 중 잘린 부분이 생김. \n",
    "\n",
    "## 그럼 부분들을 보상해주기 위해 해당 부분을 영상의 minimum 값으로 바꾸어줌. "
   ]
  },
  {
   "cell_type": "code",
   "execution_count": 66,
   "metadata": {},
   "outputs": [
    {
     "name": "stdout",
     "output_type": "stream",
     "text": [
      "after processing :  (6, 180, 671, 671)\n"
     ]
    }
   ],
   "source": [
    "sam = trans_ct[:, 20:200, ...]\n",
    "\n",
    "for p in range(sam.shape[0]):\n",
    "    for s in range(sam.shape[1]):\n",
    "        for w in range(sam.shape[2]):\n",
    "            if w < 50 :\n",
    "                for h in range(sam.shape[3]):\n",
    "                    if sam[p,s,w,h]==0 :\n",
    "                        sam[p,s,w,h] = sam_min\n",
    "\n",
    "            elif w >= 50:\n",
    "                for h in range(sam.shape[3]):\n",
    "                    if h > 580 and sam[p,s,w,h]==0 :\n",
    "                        sam[p,s,w,h] = sam_min\n",
    "\n",
    "            elif w >= 650:\n",
    "                for h in range(sam.shape[3]):\n",
    "                    if sam[p,s,w,h]==0 :\n",
    "                        sam[p,s,w,h] = sam_min\n",
    "\n",
    "print('after processing : ', sam.shape)"
   ]
  },
  {
   "cell_type": "code",
   "execution_count": null,
   "metadata": {},
   "outputs": [],
   "source": [
    "(6,180, 641, 600)"
   ]
  },
  {
   "cell_type": "code",
   "execution_count": 67,
   "metadata": {},
   "outputs": [
    {
     "data": {
      "application/vnd.jupyter.widget-view+json": {
       "model_id": "6288639a97144eac8dc6b648cfbb9893",
       "version_major": 2,
       "version_minor": 0
      },
      "text/plain": [
       "interactive(children=(IntSlider(value=0, description='x', max=5), IntSlider(value=0, description='y', max=179)…"
      ]
     },
     "metadata": {},
     "output_type": "display_data"
    },
    {
     "data": {
      "text/plain": [
       "<function __main__.show1(x, y)>"
      ]
     },
     "execution_count": 67,
     "metadata": {},
     "output_type": "execute_result"
    }
   ],
   "source": [
    "def show1(x, y):\n",
    "    plt.figure(figsize=(12,12))\n",
    "#     plt.subplot(121)\n",
    "    plt.imshow(np.rot90(sam[x, y, ...]), cmap='gray')\n",
    "    \n",
    "#     plt.subplot(122)\n",
    "#     plt.imshow()\n",
    "\n",
    "interact(show1, x=widgets.IntSlider(min=0, max=(sam.shape[0]-1), step=1,value=0),\n",
    "        y=widgets.IntSlider(min=0, max=(sam.shape[1]-1), step=1,value=0))"
   ]
  },
  {
   "cell_type": "markdown",
   "metadata": {},
   "source": [
    "</br>\n",
    "\n",
    "# 보상해주기 위해 해당 부분을 영상의 minimum 값으로 바꾸어주는 방법보다 slicing 하는 방법이 더 좋아 보임."
   ]
  },
  {
   "cell_type": "code",
   "execution_count": 5,
   "metadata": {},
   "outputs": [
    {
     "name": "stdout",
     "output_type": "stream",
     "text": [
      "after processing :  (6, 180, 641, 600)\n"
     ]
    }
   ],
   "source": [
    "sam = trans_ct[:, 20:200, 30:, :600]\n",
    "\n",
    "print('after processing : ', sam.shape)"
   ]
  },
  {
   "cell_type": "code",
   "execution_count": 11,
   "metadata": {},
   "outputs": [
    {
     "data": {
      "application/vnd.jupyter.widget-view+json": {
       "model_id": "caadd97a41f940aab18731753f0dd687",
       "version_major": 2,
       "version_minor": 0
      },
      "text/plain": [
       "interactive(children=(IntSlider(value=0, description='x', max=5), IntSlider(value=0, description='y', max=179)…"
      ]
     },
     "metadata": {},
     "output_type": "display_data"
    },
    {
     "data": {
      "text/plain": [
       "<function __main__.show(x, y, z)>"
      ]
     },
     "execution_count": 11,
     "metadata": {},
     "output_type": "execute_result"
    }
   ],
   "source": [
    "def show(x, y, z):\n",
    "    plt.figure(figsize=(24,12))\n",
    "    plt.subplot(121)\n",
    "    plt.imshow(sam[x, y, ...], cmap='gray')\n",
    "    \n",
    "    plt.subplot(122)\n",
    "    plt.imshow(np.rot90(sam[x, z, ...]), cmap='gray')    \n",
    "    \n",
    "interact(show, x=widgets.IntSlider(min=0, max=(sam.shape[0]-1), step=1,value=0), \n",
    "         y=widgets.IntSlider(min=0, max=(sam.shape[1]-1), step=1,value=0), \n",
    "         z=widgets.IntSlider(min=0, max=(sam.shape[1]-1), step=1,value=0))"
   ]
  },
  {
   "cell_type": "markdown",
   "metadata": {},
   "source": [
    "</br>\n",
    "\n",
    "## summation"
   ]
  },
  {
   "cell_type": "code",
   "execution_count": 6,
   "metadata": {},
   "outputs": [
    {
     "data": {
      "text/plain": [
       "(180, 641, 600)"
      ]
     },
     "execution_count": 6,
     "metadata": {},
     "output_type": "execute_result"
    }
   ],
   "source": [
    "ct_sum = np.zeros((sam[0].shape))\n",
    "\n",
    "for s in range(sam.shape[0]):\n",
    "    ct_sum += sam[s]\n",
    "    \n",
    "ct_sum.shape"
   ]
  },
  {
   "cell_type": "code",
   "execution_count": 7,
   "metadata": {},
   "outputs": [
    {
     "data": {
      "application/vnd.jupyter.widget-view+json": {
       "model_id": "b90c56782695482fb7b0858891cace6c",
       "version_major": 2,
       "version_minor": 0
      },
      "text/plain": [
       "interactive(children=(IntSlider(value=0, description='x', max=179), Output()), _dom_classes=('widget-interact'…"
      ]
     },
     "metadata": {},
     "output_type": "display_data"
    },
    {
     "data": {
      "text/plain": [
       "<function __main__.show1(x)>"
      ]
     },
     "execution_count": 7,
     "metadata": {},
     "output_type": "execute_result"
    }
   ],
   "source": [
    "def show1(x):\n",
    "    plt.figure(figsize=(12,12))\n",
    "#     plt.subplot(121)\n",
    "    plt.imshow(np.rot90(ct_sum[x]), cmap='gray')\n",
    "    \n",
    "#     plt.subplot(122)\n",
    "#     plt.imshow()\n",
    "\n",
    "interact(show1, x=widgets.IntSlider(min=0, max=(ct_sum.shape[0]-1), step=1,value=0))"
   ]
  },
  {
   "cell_type": "code",
   "execution_count": null,
   "metadata": {},
   "outputs": [],
   "source": []
  }
 ],
 "metadata": {
  "kernelspec": {
   "display_name": "Python 3",
   "language": "python",
   "name": "python3"
  },
  "language_info": {
   "codemirror_mode": {
    "name": "ipython",
    "version": 3
   },
   "file_extension": ".py",
   "mimetype": "text/x-python",
   "name": "python",
   "nbconvert_exporter": "python",
   "pygments_lexer": "ipython3",
   "version": "3.7.7"
  }
 },
 "nbformat": 4,
 "nbformat_minor": 4
}
