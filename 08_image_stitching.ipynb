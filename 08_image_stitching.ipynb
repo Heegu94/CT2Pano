{
 "cells": [
  {
   "cell_type": "markdown",
   "metadata": {},
   "source": [
    "# image stitching\n",
    "\n",
    "\n",
    "#### -> 07_rotation_sliced_img 의 결과 영상들을 이어 붙이는 방법을 찾아봄"
   ]
  },
  {
   "cell_type": "code",
   "execution_count": 9,
   "metadata": {},
   "outputs": [],
   "source": [
    "import numpy as np\n",
    "import cv2\n",
    "import os\n",
    "from imutils import paths\n",
    "import argparse\n",
    "import imutils\n",
    "\n",
    "import glob"
   ]
  },
  {
   "cell_type": "code",
   "execution_count": 12,
   "metadata": {},
   "outputs": [],
   "source": [
    "root = 'C://Users//Heeguen//Desktop//heeguen//Dental_panorama_2020/image_parts/'\n",
    "np_path = glob.glob(root+'*.npy')\n",
    "\n",
    "for i in range(len(np_path)):\n",
    "    a_ = np.load(np_path[i])\n",
    "    a = a_.astype(np.uint8)\n",
    "    cv2.imwrite(root+'part_%02d.png'%i, a)"
   ]
  },
  {
   "cell_type": "code",
   "execution_count": 16,
   "metadata": {},
   "outputs": [
    {
     "name": "stdout",
     "output_type": "stream",
     "text": [
      "[INFO] loading images...\n"
     ]
    }
   ],
   "source": [
    "print(\"[INFO] loading images...\")\n",
    "imagePaths = sorted(list(paths.list_images(root+'/images')))\n",
    "images = []\n",
    "\n",
    "# loop over the image paths, load each one, and add them to our\n",
    "# images to stitch list\n",
    "for imagePath in imagePaths:\n",
    "\timage = cv2.imread(imagePath)\n",
    "\timages.append(image)"
   ]
  },
  {
   "cell_type": "code",
   "execution_count": 19,
   "metadata": {},
   "outputs": [
    {
     "name": "stdout",
     "output_type": "stream",
     "text": [
      "[INFO] stitching images...\n"
     ]
    }
   ],
   "source": [
    "print(\"[INFO] stitching images...\")\n",
    "stitcher = cv2.createStitcher() if imutils.is_cv3() else cv2.Stitcher_create()\n",
    "(status, stitched) = stitcher.stitch(images)"
   ]
  },
  {
   "cell_type": "code",
   "execution_count": 26,
   "metadata": {},
   "outputs": [
    {
     "name": "stdout",
     "output_type": "stream",
     "text": [
      "1\n"
     ]
    }
   ],
   "source": [
    "(status, stitched) = stitcher.stitch(images[4], images[5])\n",
    "print(status)"
   ]
  },
  {
   "cell_type": "code",
   "execution_count": 24,
   "metadata": {},
   "outputs": [
    {
     "name": "stdout",
     "output_type": "stream",
     "text": [
      "[INFO] image stitching failed (1)\n"
     ]
    }
   ],
   "source": [
    "if status == 0:\n",
    "# \tcv2.imwrite(args[\"output\"], stitched)\n",
    "\tcv2.imshow(\"Stitched\", stitched)\n",
    "\tcv2.waitKey(0)\n",
    "\n",
    "else:\n",
    "\tprint(\"[INFO] image stitching failed ({})\".format(status))"
   ]
  },
  {
   "cell_type": "markdown",
   "metadata": {},
   "source": [
    "### => pixel 단위가 너무 작아서 이미지간 feature extract 실패"
   ]
  }
 ],
 "metadata": {
  "kernelspec": {
   "display_name": "Python 3",
   "language": "python",
   "name": "python3"
  },
  "language_info": {
   "codemirror_mode": {
    "name": "ipython",
    "version": 3
   },
   "file_extension": ".py",
   "mimetype": "text/x-python",
   "name": "python",
   "nbconvert_exporter": "python",
   "pygments_lexer": "ipython3",
   "version": "3.7.7"
  }
 },
 "nbformat": 4,
 "nbformat_minor": 4
}
