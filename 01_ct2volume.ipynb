{
 "cells": [
  {
   "cell_type": "markdown",
   "metadata": {},
   "source": [
    "## NIfTI to Numpy\n",
    "\n",
    "#### package : Nibabel, numpy "
   ]
  },
  {
   "cell_type": "code",
   "execution_count": 1,
   "metadata": {},
   "outputs": [],
   "source": [
    "import os, glob\n",
    "import numpy as np\n",
    "import cv2\n",
    "import matplotlib.pyplot as plt\n",
    "\n",
    "import nibabel as nib"
   ]
  },
  {
   "cell_type": "code",
   "execution_count": 12,
   "metadata": {},
   "outputs": [],
   "source": [
    "ROOT = \"D://Data/\"\n",
    "\n",
    "pat_list = os.listdir(ROOT)\n",
    "pat_path = [os.path.join(ROOT, pat) for pat in pat_list]\n",
    "\n",
    "ct_list = [glob.glob(path+'/*.nii') for path in pat_path]\n",
    "\n",
    "np_ct = []\n",
    "for i in ct_list:\n",
    "    img = nib.load(i[0])\n",
    "    np_ct.append(np.array(img.dataobj))"
   ]
  },
  {
   "cell_type": "code",
   "execution_count": 13,
   "metadata": {},
   "outputs": [
    {
     "name": "stdout",
     "output_type": "stream",
     "text": [
      "(671, 671, 424)\n",
      "(671, 671, 424)\n",
      "(670, 670, 400)\n",
      "(670, 670, 400)\n",
      "(671, 671, 423)\n",
      "(671, 671, 425)\n",
      "(670, 670, 400)\n",
      "(670, 670, 398)\n",
      "(671, 671, 426)\n",
      "(671, 671, 422)\n"
     ]
    }
   ],
   "source": [
    "for i in range(len(np_ct)):\n",
    "    print(np_ct[i].shape)\n",
    "    "
   ]
  },
  {
   "cell_type": "code",
   "execution_count": 16,
   "metadata": {},
   "outputs": [],
   "source": [
    "SAVE_PATH = 'C:\\\\Users\\\\Heeguen\\\\Desktop\\\\heeguen\\\\Dental_panorama_2020\\\\np_data'\n",
    "os.makedirs(SAVE_PATH, exist_ok=True)\n",
    "np.save(SAVE_PATH+'/ct.npy', np_ct)"
   ]
  },
  {
   "cell_type": "code",
   "execution_count": 20,
   "metadata": {},
   "outputs": [],
   "source": [
    "ct = np.load('C://Users//Heeguen//Desktop//heeguen//Dental_panorama_2020//np_data/ct.npy', allow_pickle=True)"
   ]
  },
  {
   "cell_type": "code",
   "execution_count": 21,
   "metadata": {},
   "outputs": [
    {
     "name": "stdout",
     "output_type": "stream",
     "text": [
      "10\n",
      "(671, 671, 424)\n",
      "(671, 671, 424)\n",
      "(670, 670, 400)\n",
      "(670, 670, 400)\n",
      "(671, 671, 423)\n",
      "(671, 671, 425)\n",
      "(670, 670, 400)\n",
      "(670, 670, 398)\n",
      "(671, 671, 426)\n",
      "(671, 671, 422)\n"
     ]
    }
   ],
   "source": [
    "print(len(ct))\n",
    "for i in range(len(ct)):\n",
    "    print(ct[i].shape)"
   ]
  }
 ],
 "metadata": {
  "kernelspec": {
   "display_name": "Python 3",
   "language": "python",
   "name": "python3"
  },
  "language_info": {
   "codemirror_mode": {
    "name": "ipython",
    "version": 3
   },
   "file_extension": ".py",
   "mimetype": "text/x-python",
   "name": "python",
   "nbconvert_exporter": "python",
   "pygments_lexer": "ipython3",
   "version": "3.7.7"
  }
 },
 "nbformat": 4,
 "nbformat_minor": 4
}
