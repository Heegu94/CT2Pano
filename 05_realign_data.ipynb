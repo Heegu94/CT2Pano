{
 "cells": [
  {
   "cell_type": "markdown",
   "metadata": {},
   "source": [
    "## 1. matlab spm 으로 ct 간 영상 align(reslice + estimate) 시킴.\n",
    "\n",
    "## 2. .nii --> .npy (변환)"
   ]
  },
  {
   "cell_type": "code",
   "execution_count": 1,
   "metadata": {},
   "outputs": [],
   "source": [
    "import os, glob\n",
    "import numpy as np\n",
    "import cv2\n",
    "import matplotlib.pyplot as plt\n",
    "\n",
    "import nibabel as nib"
   ]
  },
  {
   "cell_type": "code",
   "execution_count": 2,
   "metadata": {},
   "outputs": [],
   "source": [
    "ROOT = \"D://Data/\"\n",
    "\n",
    "pat_list = os.listdir(ROOT)\n",
    "pat_path = [os.path.join(ROOT, pat) for pat in pat_list]\n",
    "\n",
    "ct_list = [glob.glob(path+'/r*.nii') for path in pat_path]\n",
    "\n",
    "np_ct = []\n",
    "for i in ct_list:\n",
    "    if i != [] :\n",
    "        img = nib.load(i[0])\n",
    "        np_ct.append(np.array(img.dataobj))\n",
    "\n",
    "ct = np.array(np_ct)\n",
    "np.save('C:\\\\Users\\\\Heeguen\\\\Desktop\\\\heeguen\\\\Dental_panorama_2020\\\\np_data\\\\register_ct.npy', ct)"
   ]
  },
  {
   "cell_type": "markdown",
   "metadata": {},
   "source": [
    "</br>\n",
    "\n",
    "## 3. load npy / "
   ]
  },
  {
   "cell_type": "code",
   "execution_count": 3,
   "metadata": {},
   "outputs": [
    {
     "name": "stdout",
     "output_type": "stream",
     "text": [
      "(10, 424, 671, 671)\n"
     ]
    }
   ],
   "source": [
    "ct = np.load('C:\\\\Users\\\\Heeguen\\\\Desktop\\\\heeguen\\\\Dental_panorama_2020\\\\np_data\\\\register_ct.npy')\n",
    "trans_ct = np.transpose(ct, (0, 3, 1, 2))\n",
    "print(trans_ct.shape)"
   ]
  },
  {
   "cell_type": "code",
   "execution_count": 6,
   "metadata": {},
   "outputs": [
    {
     "data": {
      "application/vnd.jupyter.widget-view+json": {
       "model_id": "3b70d2c5da724521980343f17f9478a2",
       "version_major": 2,
       "version_minor": 0
      },
      "text/plain": [
       "interactive(children=(IntSlider(value=0, description='x', max=9), IntSlider(value=100, description='y', max=42…"
      ]
     },
     "metadata": {},
     "output_type": "display_data"
    },
    {
     "data": {
      "text/plain": [
       "<function __main__.show(x, y)>"
      ]
     },
     "execution_count": 6,
     "metadata": {},
     "output_type": "execute_result"
    }
   ],
   "source": [
    "from ipywidgets import interact\n",
    "import ipywidgets as widgets\n",
    "\n",
    "def show(x, y):\n",
    "    plt.figure(figsize=(12,12))\n",
    "#     plt.subplot(121)\n",
    "    plt.imshow(trans_ct[x, y, ...], cmap='gray')\n",
    "    \n",
    "#     plt.subplot(122)\n",
    "#     plt.imshow()\n",
    "\n",
    "interact(show, x=widgets.IntSlider(min=0, max=(trans_ct.shape[0]-1), step=1,value=0), y=widgets.IntSlider(min=0, max=(trans_ct.shape[1]-1), step=1,value=100))"
   ]
  },
  {
   "cell_type": "code",
   "execution_count": 7,
   "metadata": {},
   "outputs": [
    {
     "name": "stdout",
     "output_type": "stream",
     "text": [
      "0 번째 ct :  -1000.0       22595.0\n",
      "..........................................\n",
      "1 번째 ct :  -2343.0       21607.0\n",
      "..........................................\n",
      "2 번째 ct :  0.11997604370117188       0.11997604370117188\n",
      "..........................................\n",
      "3 번째 ct :  0.11997604370117188       0.11997604370117188\n",
      "..........................................\n",
      "4 번째 ct :  -2122.0       27029.0\n",
      "..........................................\n",
      "5 번째 ct :  -1877.0       19515.0\n",
      "..........................................\n",
      "6 번째 ct :  0.11997604370117188       0.11997604370117188\n",
      "..........................................\n",
      "7 번째 ct :  0.11997604370117188       0.11997604370117188\n",
      "..........................................\n",
      "8 번째 ct :  -1538.0       13881.0\n",
      "..........................................\n",
      "9 번째 ct :  -1598.0       22239.0\n",
      "..........................................\n"
     ]
    }
   ],
   "source": [
    "for i in range(trans_ct.shape[0]):\n",
    "    ct_ = trans_ct[i]\n",
    "    print(i, '번째 ct : ', ct_.min(), '     ', ct_.max())\n",
    "    print('..........................................')"
   ]
  },
  {
   "cell_type": "markdown",
   "metadata": {},
   "source": [
    "</br>\n",
    "\n",
    "## 4. 이상있는 영상 제외하고 sum\n",
    "\n",
    "- 이전의 ct 데이터와는 다르게 center가 맞는 것을 확인 할 수 있다."
   ]
  },
  {
   "cell_type": "code",
   "execution_count": 8,
   "metadata": {},
   "outputs": [
    {
     "name": "stdout",
     "output_type": "stream",
     "text": [
      "0\n",
      "1\n",
      "4\n",
      "5\n",
      "8\n",
      "9\n",
      "(6, 424, 671, 671)\n"
     ]
    }
   ],
   "source": [
    "tot_ct_ = []\n",
    "for i in range(trans_ct.shape[0]):\n",
    "    if trans_ct[i].min() < 0:\n",
    "        print(i)\n",
    "        tot_ct_.append(trans_ct[i])\n",
    "    else: pass\n",
    "    \n",
    "tot_ct = np.array(tot_ct_)\n",
    "print(tot_ct.shape)"
   ]
  },
  {
   "cell_type": "code",
   "execution_count": 9,
   "metadata": {},
   "outputs": [
    {
     "data": {
      "text/plain": [
       "(424, 671, 671)"
      ]
     },
     "execution_count": 9,
     "metadata": {},
     "output_type": "execute_result"
    }
   ],
   "source": [
    "ct_sum = np.zeros((tot_ct[0].shape))\n",
    "\n",
    "for s in range(tot_ct.shape[0]):\n",
    "    ct_sum += tot_ct[s]\n",
    "    \n",
    "ct_sum.shape"
   ]
  },
  {
   "cell_type": "code",
   "execution_count": 10,
   "metadata": {},
   "outputs": [
    {
     "data": {
      "application/vnd.jupyter.widget-view+json": {
       "model_id": "428459d07e1f4f95924777ed1363c746",
       "version_major": 2,
       "version_minor": 0
      },
      "text/plain": [
       "interactive(children=(IntSlider(value=0, description='x', max=423), Output()), _dom_classes=('widget-interact'…"
      ]
     },
     "metadata": {},
     "output_type": "display_data"
    },
    {
     "data": {
      "text/plain": [
       "<function __main__.show1(x)>"
      ]
     },
     "execution_count": 10,
     "metadata": {},
     "output_type": "execute_result"
    }
   ],
   "source": [
    "def show1(x):\n",
    "    plt.figure(figsize=(12,12))\n",
    "#     plt.subplot(121)\n",
    "    plt.imshow(ct_sum[x, ...], cmap='gray')\n",
    "    \n",
    "#     plt.subplot(122)\n",
    "#     plt.imshow()\n",
    "\n",
    "interact(show1, x=widgets.IntSlider(min=0, max=(ct_sum.shape[0]-1), step=1,value=0))"
   ]
  },
  {
   "cell_type": "code",
   "execution_count": 11,
   "metadata": {},
   "outputs": [],
   "source": [
    "from scipy.ndimage.interpolation import shift"
   ]
  },
  {
   "cell_type": "code",
   "execution_count": null,
   "metadata": {},
   "outputs": [],
   "source": [
    "tmp_ = shift(ct_sum, )"
   ]
  },
  {
   "cell_type": "code",
   "execution_count": null,
   "metadata": {},
   "outputs": [],
   "source": [
    "def show1(x):\n",
    "    plt.figure(figsize=(12,12))\n",
    "#     plt.subplot(121)\n",
    "    plt.imshow(ct_sum[x, ...], cmap='gray')\n",
    "    \n",
    "#     plt.subplot(122)\n",
    "#     plt.imshow()\n",
    "\n",
    "interact(show1, x=widgets.IntSlider(min=0, max=(ct_sum.shape[0]-1), step=1,value=0))"
   ]
  }
 ],
 "metadata": {
  "kernelspec": {
   "display_name": "Python 3",
   "language": "python",
   "name": "python3"
  },
  "language_info": {
   "codemirror_mode": {
    "name": "ipython",
    "version": 3
   },
   "file_extension": ".py",
   "mimetype": "text/x-python",
   "name": "python",
   "nbconvert_exporter": "python",
   "pygments_lexer": "ipython3",
   "version": "3.7.7"
  }
 },
 "nbformat": 4,
 "nbformat_minor": 4
}
